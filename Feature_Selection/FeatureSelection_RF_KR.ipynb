{
 "cells": [
  {
   "cell_type": "markdown",
   "id": "7339b0dc",
   "metadata": {},
   "source": [
    "# Feature Selection"
   ]
  },
  {
   "cell_type": "code",
   "execution_count": 1,
   "id": "e2b7832e",
   "metadata": {},
   "outputs": [],
   "source": [
    "# IMPORT DEPENDENCIES \n",
    "import pandas as pd\n",
    "import numpy as np\n",
    "import plotly.express as px\n",
    "import seaborn as sns\n",
    "import matplotlib.pyplot as plt\n",
    "import sklearn\n",
    "import plotly.graph_objects as go\n",
    "from plotly.subplots import make_subplots\n",
    "from sklearn.model_selection import train_test_split\n",
    "from sklearn.metrics import classification_report"
   ]
  },
  {
   "cell_type": "code",
   "execution_count": 2,
   "id": "feaf990a",
   "metadata": {},
   "outputs": [
    {
     "data": {
      "text/html": [
       "<div>\n",
       "<style scoped>\n",
       "    .dataframe tbody tr th:only-of-type {\n",
       "        vertical-align: middle;\n",
       "    }\n",
       "\n",
       "    .dataframe tbody tr th {\n",
       "        vertical-align: top;\n",
       "    }\n",
       "\n",
       "    .dataframe thead th {\n",
       "        text-align: right;\n",
       "    }\n",
       "</style>\n",
       "<table border=\"1\" class=\"dataframe\">\n",
       "  <thead>\n",
       "    <tr style=\"text-align: right;\">\n",
       "      <th></th>\n",
       "      <th>Source Port</th>\n",
       "      <th>Destination Port</th>\n",
       "      <th>NAT Source Port</th>\n",
       "      <th>NAT Destination Port</th>\n",
       "      <th>Action</th>\n",
       "      <th>Bytes</th>\n",
       "      <th>Bytes Sent</th>\n",
       "      <th>Bytes Received</th>\n",
       "      <th>Packets</th>\n",
       "      <th>Elapsed Time (sec)</th>\n",
       "      <th>pkts_sent</th>\n",
       "      <th>pkts_received</th>\n",
       "    </tr>\n",
       "  </thead>\n",
       "  <tbody>\n",
       "    <tr>\n",
       "      <th>0</th>\n",
       "      <td>57222</td>\n",
       "      <td>53</td>\n",
       "      <td>54587</td>\n",
       "      <td>53</td>\n",
       "      <td>allow</td>\n",
       "      <td>177</td>\n",
       "      <td>94</td>\n",
       "      <td>83</td>\n",
       "      <td>2</td>\n",
       "      <td>30</td>\n",
       "      <td>1</td>\n",
       "      <td>1</td>\n",
       "    </tr>\n",
       "    <tr>\n",
       "      <th>1</th>\n",
       "      <td>56258</td>\n",
       "      <td>3389</td>\n",
       "      <td>56258</td>\n",
       "      <td>3389</td>\n",
       "      <td>allow</td>\n",
       "      <td>4768</td>\n",
       "      <td>1600</td>\n",
       "      <td>3168</td>\n",
       "      <td>19</td>\n",
       "      <td>17</td>\n",
       "      <td>10</td>\n",
       "      <td>9</td>\n",
       "    </tr>\n",
       "    <tr>\n",
       "      <th>2</th>\n",
       "      <td>6881</td>\n",
       "      <td>50321</td>\n",
       "      <td>43265</td>\n",
       "      <td>50321</td>\n",
       "      <td>allow</td>\n",
       "      <td>238</td>\n",
       "      <td>118</td>\n",
       "      <td>120</td>\n",
       "      <td>2</td>\n",
       "      <td>1199</td>\n",
       "      <td>1</td>\n",
       "      <td>1</td>\n",
       "    </tr>\n",
       "    <tr>\n",
       "      <th>3</th>\n",
       "      <td>50553</td>\n",
       "      <td>3389</td>\n",
       "      <td>50553</td>\n",
       "      <td>3389</td>\n",
       "      <td>allow</td>\n",
       "      <td>3327</td>\n",
       "      <td>1438</td>\n",
       "      <td>1889</td>\n",
       "      <td>15</td>\n",
       "      <td>17</td>\n",
       "      <td>8</td>\n",
       "      <td>7</td>\n",
       "    </tr>\n",
       "    <tr>\n",
       "      <th>4</th>\n",
       "      <td>50002</td>\n",
       "      <td>443</td>\n",
       "      <td>45848</td>\n",
       "      <td>443</td>\n",
       "      <td>allow</td>\n",
       "      <td>25358</td>\n",
       "      <td>6778</td>\n",
       "      <td>18580</td>\n",
       "      <td>31</td>\n",
       "      <td>16</td>\n",
       "      <td>13</td>\n",
       "      <td>18</td>\n",
       "    </tr>\n",
       "  </tbody>\n",
       "</table>\n",
       "</div>"
      ],
      "text/plain": [
       "   Source Port  Destination Port  NAT Source Port  NAT Destination Port  \\\n",
       "0        57222                53            54587                    53   \n",
       "1        56258              3389            56258                  3389   \n",
       "2         6881             50321            43265                 50321   \n",
       "3        50553              3389            50553                  3389   \n",
       "4        50002               443            45848                   443   \n",
       "\n",
       "  Action  Bytes  Bytes Sent  Bytes Received  Packets  Elapsed Time (sec)  \\\n",
       "0  allow    177          94              83        2                  30   \n",
       "1  allow   4768        1600            3168       19                  17   \n",
       "2  allow    238         118             120        2                1199   \n",
       "3  allow   3327        1438            1889       15                  17   \n",
       "4  allow  25358        6778           18580       31                  16   \n",
       "\n",
       "   pkts_sent  pkts_received  \n",
       "0          1              1  \n",
       "1         10              9  \n",
       "2          1              1  \n",
       "3          8              7  \n",
       "4         13             18  "
      ]
     },
     "execution_count": 2,
     "metadata": {},
     "output_type": "execute_result"
    }
   ],
   "source": [
    "# READ DATA \n",
    "internet_firewall = pd.read_csv(\"C:/Users/kayan/UCD/STA221/Final_Project/Data/log2.csv\") \n",
    "# REMOVE ROWS WITH NULL VALUES \n",
    "internet_firewall = internet_firewall.dropna()\n",
    "internet_firewall.head()"
   ]
  },
  {
   "cell_type": "code",
   "execution_count": 3,
   "id": "447832fd",
   "metadata": {},
   "outputs": [],
   "source": [
    "# CHANGE CLASS TO CATEGORICAL VARIABLE \n",
    "internet_firewall['Action'] = internet_firewall.Action.astype('category')"
   ]
  },
  {
   "cell_type": "markdown",
   "id": "6396b23d",
   "metadata": {},
   "source": [
    "## I. Variance Threshold "
   ]
  },
  {
   "cell_type": "code",
   "execution_count": 4,
   "id": "99769298",
   "metadata": {},
   "outputs": [],
   "source": [
    "# IMPORT DEPENDENCIES \n",
    "from sklearn.feature_selection import VarianceThreshold"
   ]
  },
  {
   "cell_type": "code",
   "execution_count": 5,
   "id": "5e88c252",
   "metadata": {},
   "outputs": [],
   "source": [
    "# CHOOSE QUANTITATIVE VARIABLES \n",
    "X = internet_firewall[['Source Port', 'Destination Port', 'NAT Source Port', \n",
    "                'Bytes', 'Bytes Sent', 'Bytes Received', 'Packets', \n",
    "                'Elapsed Time (sec)', 'pkts_sent', 'pkts_received']]"
   ]
  },
  {
   "cell_type": "code",
   "execution_count": 6,
   "id": "ec6fb71a",
   "metadata": {},
   "outputs": [
    {
     "name": "stdout",
     "output_type": "stream",
     "text": [
      "[ True  True  True  True  True  True  True  True  True  True]\n",
      "[2.32733214e+08 3.40988951e+08 4.82703838e+08 3.15663741e+13\n",
      " 1.46544219e+13 6.06729965e+12 2.63473110e+07 9.14817216e+04\n",
      " 1.03609743e+07 4.94313096e+06]\n"
     ]
    }
   ],
   "source": [
    "# SELECT FEATURES USING 0 VARIANCE THRESHOLD \n",
    "var_thresh = VarianceThreshold(threshold =0.0) #set threshold to 0.0 \n",
    "var_thresh.fit(X) \n",
    "print(var_thresh.get_support())\n",
    "print(var_thresh.fit_transform(X).var(axis=0)) #print variances "
   ]
  },
  {
   "cell_type": "markdown",
   "id": "4a90e1b4",
   "metadata": {},
   "source": [
    "## II. Filter-based methods"
   ]
  },
  {
   "cell_type": "markdown",
   "id": "ad287318",
   "metadata": {},
   "source": [
    "### 1. Chi-square Test"
   ]
  },
  {
   "cell_type": "code",
   "execution_count": 7,
   "id": "7e826300",
   "metadata": {},
   "outputs": [],
   "source": [
    "# IMPORT DEPENDENCIES \n",
    "from sklearn.feature_selection import SelectKBest\n",
    "from sklearn.feature_selection import chi2\n",
    "from sklearn.preprocessing import MinMaxScaler"
   ]
  },
  {
   "cell_type": "code",
   "execution_count": 8,
   "id": "3640c9d6",
   "metadata": {},
   "outputs": [],
   "source": [
    "feature_names = ['Source Port', 'Destination Port', 'NAT Source Port', \n",
    "                'Bytes', 'Bytes Sent', 'Bytes Received', 'Packets', \n",
    "                'Elapsed Time (sec)', 'pkts_sent', 'pkts_received'] #list of features "
   ]
  },
  {
   "cell_type": "code",
   "execution_count": 9,
   "id": "b60c7b4d",
   "metadata": {},
   "outputs": [],
   "source": [
    "# GET VARIABLES \n",
    "X = internet_firewall[feature_names] #independent variables \n",
    "y = internet_firewall['Action'] #target variable\n",
    "X_norm = MinMaxScaler().fit_transform(X) #scale features (models can be sensitive to scale of input)"
   ]
  },
  {
   "cell_type": "code",
   "execution_count": 10,
   "id": "d9638e0f",
   "metadata": {},
   "outputs": [
    {
     "name": "stdout",
     "output_type": "stream",
     "text": [
      "        feature_names  chi-square_values       p_values\n",
      "1    Destination Port       15541.300414   0.000000e+00\n",
      "2     NAT Source Port       14245.855522   0.000000e+00\n",
      "0         Source Port         819.265928  2.869762e-177\n",
      "7  Elapsed Time (sec)         295.351296   1.008912e-63\n",
      "5      Bytes Received          11.310435   1.016039e-02\n",
      "9       pkts_received           9.121870   2.771368e-02\n",
      "6             Packets           4.773962   1.891170e-01\n",
      "3               Bytes           3.711999   2.942893e-01\n",
      "8           pkts_sent           2.624180   4.532662e-01\n",
      "4          Bytes Sent           1.141353   7.671017e-01\n"
     ]
    }
   ],
   "source": [
    "# GET CHI-SQUARE VALUES FOR ALL FEATURES \n",
    "chi_scores = chi2(X_norm,y) #compute chi-sq values \n",
    "scores_df = pd.DataFrame({'feature_names': feature_names, \n",
    "                          'chi-square_values': chi_scores[0], \n",
    "                          'p_values': chi_scores[1]})\n",
    "print(scores_df.sort_values('chi-square_values', ascending= False))"
   ]
  },
  {
   "cell_type": "markdown",
   "id": "151a4f81",
   "metadata": {},
   "source": [
    "Note: Choose top 6 since the p-values of last 4 features are not statistically significant "
   ]
  },
  {
   "cell_type": "code",
   "execution_count": 11,
   "id": "c6699b43",
   "metadata": {},
   "outputs": [
    {
     "name": "stdout",
     "output_type": "stream",
     "text": [
      "6 selected features: ['Source Port', 'Destination Port', 'NAT Source Port', 'Bytes Received', 'Elapsed Time (sec)', 'pkts_received']\n"
     ]
    }
   ],
   "source": [
    "# GET TOP 5 FEATURES \n",
    "chi_selector = SelectKBest(chi2, k=6) #get top 6 features \n",
    "chi_selector.fit(X_norm, y)\n",
    "chi_support = chi_selector.get_support()\n",
    "chi_feature = X.loc[:,chi_support].columns.tolist()\n",
    "print(f\"{len(chi_feature)} selected features: {chi_feature}\")"
   ]
  },
  {
   "cell_type": "markdown",
   "id": "ed6c53be",
   "metadata": {},
   "source": [
    "## III. Wrapper-based methods"
   ]
  },
  {
   "cell_type": "markdown",
   "id": "4a8821d1",
   "metadata": {},
   "source": [
    "### 1. Recursive Feature Elimination"
   ]
  },
  {
   "cell_type": "markdown",
   "id": "2428cd15",
   "metadata": {},
   "source": [
    "#### RFE - Logistic Regression"
   ]
  },
  {
   "cell_type": "code",
   "execution_count": 12,
   "id": "0d78c40e",
   "metadata": {},
   "outputs": [],
   "source": [
    "# IMPORT DEPENDENCIES \n",
    "from sklearn.feature_selection import RFE\n",
    "from sklearn.linear_model import LogisticRegression\n",
    "from sklearn.model_selection import train_test_split\n",
    "from sklearn.metrics import mean_squared_error"
   ]
  },
  {
   "cell_type": "code",
   "execution_count": 13,
   "id": "4853754f",
   "metadata": {},
   "outputs": [],
   "source": [
    "# PERFORM RFE AND SELECT TOP 6 FEATURES \n",
    "estimator = LogisticRegression(max_iter=1000) #define estimator \n",
    "rfe_lr = RFE(estimator, n_features_to_select=6, step=1)\n",
    "rfe_lr.fit(X_norm, y)\n",
    "rfe_lr_support = rfe_lr.get_support()\n",
    "rfe_lr_feature = X.loc[:,rfe_lr_support].columns.tolist()\n",
    "#print(f\"Initial features: {X.columns.tolist()}\")\n",
    "#print(f\"Feature Ranking: {rfe_lr.ranking_}\")"
   ]
  },
  {
   "cell_type": "code",
   "execution_count": 14,
   "id": "293cdef0",
   "metadata": {},
   "outputs": [
    {
     "name": "stdout",
     "output_type": "stream",
     "text": [
      "        feature_names  feature_ranking  support\n",
      "0         Source Port                1     True\n",
      "1    Destination Port                1     True\n",
      "2     NAT Source Port                1     True\n",
      "5      Bytes Received                1     True\n",
      "7  Elapsed Time (sec)                1     True\n",
      "9       pkts_received                1     True\n",
      "6             Packets                2    False\n",
      "3               Bytes                3    False\n",
      "8           pkts_sent                4    False\n",
      "4          Bytes Sent                5    False\n",
      "6 selected features: ['Source Port', 'Destination Port', 'NAT Source Port', 'Bytes Received', 'Elapsed Time (sec)', 'pkts_received'] \n"
     ]
    }
   ],
   "source": [
    "# CONVERT TO DATAFRAME \n",
    "df = pd.DataFrame({'feature_names': X.columns.tolist(), \n",
    "                          'feature_ranking': rfe_lr.ranking_, 'support': rfe_lr_support})\n",
    "print(df.sort_values('feature_ranking'))\n",
    "print(f\"{len(rfe_lr_feature)} selected features: {rfe_lr_feature} \")"
   ]
  },
  {
   "cell_type": "markdown",
   "id": "cb6b4884",
   "metadata": {},
   "source": [
    "#### RFECV - Logistic Regression"
   ]
  },
  {
   "cell_type": "code",
   "execution_count": 15,
   "id": "86ce603a",
   "metadata": {},
   "outputs": [],
   "source": [
    "# IMPORT DEPENDENCIES \n",
    "from sklearn.feature_selection import RFECV\n",
    "from sklearn.tree import DecisionTreeRegressor"
   ]
  },
  {
   "cell_type": "code",
   "execution_count": 16,
   "id": "df926ade",
   "metadata": {},
   "outputs": [
    {
     "data": {
      "text/html": [
       "<style>#sk-container-id-1 {color: black;background-color: white;}#sk-container-id-1 pre{padding: 0;}#sk-container-id-1 div.sk-toggleable {background-color: white;}#sk-container-id-1 label.sk-toggleable__label {cursor: pointer;display: block;width: 100%;margin-bottom: 0;padding: 0.3em;box-sizing: border-box;text-align: center;}#sk-container-id-1 label.sk-toggleable__label-arrow:before {content: \"▸\";float: left;margin-right: 0.25em;color: #696969;}#sk-container-id-1 label.sk-toggleable__label-arrow:hover:before {color: black;}#sk-container-id-1 div.sk-estimator:hover label.sk-toggleable__label-arrow:before {color: black;}#sk-container-id-1 div.sk-toggleable__content {max-height: 0;max-width: 0;overflow: hidden;text-align: left;background-color: #f0f8ff;}#sk-container-id-1 div.sk-toggleable__content pre {margin: 0.2em;color: black;border-radius: 0.25em;background-color: #f0f8ff;}#sk-container-id-1 input.sk-toggleable__control:checked~div.sk-toggleable__content {max-height: 200px;max-width: 100%;overflow: auto;}#sk-container-id-1 input.sk-toggleable__control:checked~label.sk-toggleable__label-arrow:before {content: \"▾\";}#sk-container-id-1 div.sk-estimator input.sk-toggleable__control:checked~label.sk-toggleable__label {background-color: #d4ebff;}#sk-container-id-1 div.sk-label input.sk-toggleable__control:checked~label.sk-toggleable__label {background-color: #d4ebff;}#sk-container-id-1 input.sk-hidden--visually {border: 0;clip: rect(1px 1px 1px 1px);clip: rect(1px, 1px, 1px, 1px);height: 1px;margin: -1px;overflow: hidden;padding: 0;position: absolute;width: 1px;}#sk-container-id-1 div.sk-estimator {font-family: monospace;background-color: #f0f8ff;border: 1px dotted black;border-radius: 0.25em;box-sizing: border-box;margin-bottom: 0.5em;}#sk-container-id-1 div.sk-estimator:hover {background-color: #d4ebff;}#sk-container-id-1 div.sk-parallel-item::after {content: \"\";width: 100%;border-bottom: 1px solid gray;flex-grow: 1;}#sk-container-id-1 div.sk-label:hover label.sk-toggleable__label {background-color: #d4ebff;}#sk-container-id-1 div.sk-serial::before {content: \"\";position: absolute;border-left: 1px solid gray;box-sizing: border-box;top: 0;bottom: 0;left: 50%;z-index: 0;}#sk-container-id-1 div.sk-serial {display: flex;flex-direction: column;align-items: center;background-color: white;padding-right: 0.2em;padding-left: 0.2em;position: relative;}#sk-container-id-1 div.sk-item {position: relative;z-index: 1;}#sk-container-id-1 div.sk-parallel {display: flex;align-items: stretch;justify-content: center;background-color: white;position: relative;}#sk-container-id-1 div.sk-item::before, #sk-container-id-1 div.sk-parallel-item::before {content: \"\";position: absolute;border-left: 1px solid gray;box-sizing: border-box;top: 0;bottom: 0;left: 50%;z-index: -1;}#sk-container-id-1 div.sk-parallel-item {display: flex;flex-direction: column;z-index: 1;position: relative;background-color: white;}#sk-container-id-1 div.sk-parallel-item:first-child::after {align-self: flex-end;width: 50%;}#sk-container-id-1 div.sk-parallel-item:last-child::after {align-self: flex-start;width: 50%;}#sk-container-id-1 div.sk-parallel-item:only-child::after {width: 0;}#sk-container-id-1 div.sk-dashed-wrapped {border: 1px dashed gray;margin: 0 0.4em 0.5em 0.4em;box-sizing: border-box;padding-bottom: 0.4em;background-color: white;}#sk-container-id-1 div.sk-label label {font-family: monospace;font-weight: bold;display: inline-block;line-height: 1.2em;}#sk-container-id-1 div.sk-label-container {text-align: center;}#sk-container-id-1 div.sk-container {/* jupyter's `normalize.less` sets `[hidden] { display: none; }` but bootstrap.min.css set `[hidden] { display: none !important; }` so we also need the `!important` here to be able to override the default hidden behavior on the sphinx rendered scikit-learn.org. See: https://github.com/scikit-learn/scikit-learn/issues/21755 */display: inline-block !important;position: relative;}#sk-container-id-1 div.sk-text-repr-fallback {display: none;}</style><div id=\"sk-container-id-1\" class=\"sk-top-container\"><div class=\"sk-text-repr-fallback\"><pre>RFECV(cv=5, estimator=LogisticRegression(max_iter=1000))</pre><b>In a Jupyter environment, please rerun this cell to show the HTML representation or trust the notebook. <br />On GitHub, the HTML representation is unable to render, please try loading this page with nbviewer.org.</b></div><div class=\"sk-container\" hidden><div class=\"sk-item sk-dashed-wrapped\"><div class=\"sk-label-container\"><div class=\"sk-label sk-toggleable\"><input class=\"sk-toggleable__control sk-hidden--visually\" id=\"sk-estimator-id-1\" type=\"checkbox\" ><label for=\"sk-estimator-id-1\" class=\"sk-toggleable__label sk-toggleable__label-arrow\">RFECV</label><div class=\"sk-toggleable__content\"><pre>RFECV(cv=5, estimator=LogisticRegression(max_iter=1000))</pre></div></div></div><div class=\"sk-parallel\"><div class=\"sk-parallel-item\"><div class=\"sk-item\"><div class=\"sk-label-container\"><div class=\"sk-label sk-toggleable\"><input class=\"sk-toggleable__control sk-hidden--visually\" id=\"sk-estimator-id-2\" type=\"checkbox\" ><label for=\"sk-estimator-id-2\" class=\"sk-toggleable__label sk-toggleable__label-arrow\">estimator: LogisticRegression</label><div class=\"sk-toggleable__content\"><pre>LogisticRegression(max_iter=1000)</pre></div></div></div><div class=\"sk-serial\"><div class=\"sk-item\"><div class=\"sk-estimator sk-toggleable\"><input class=\"sk-toggleable__control sk-hidden--visually\" id=\"sk-estimator-id-3\" type=\"checkbox\" ><label for=\"sk-estimator-id-3\" class=\"sk-toggleable__label sk-toggleable__label-arrow\">LogisticRegression</label><div class=\"sk-toggleable__content\"><pre>LogisticRegression(max_iter=1000)</pre></div></div></div></div></div></div></div></div></div></div>"
      ],
      "text/plain": [
       "RFECV(cv=5, estimator=LogisticRegression(max_iter=1000))"
      ]
     },
     "execution_count": 16,
     "metadata": {},
     "output_type": "execute_result"
    }
   ],
   "source": [
    "# PERFORM RFECV\n",
    "estimator = LogisticRegression(max_iter=1000) #define estimator \n",
    "rfecv_dtr = RFECV(estimator=estimator,step=1, cv=5)\n",
    "rfecv_dtr.fit(X_norm, y)\n",
    "#print(f\"Feature Ranking: {rfecv_dtr.ranking_}\")\n",
    "#print(f\"Initial features: {X.columns.tolist()}\")\n",
    "#print(rfecv_dtr.support_)"
   ]
  },
  {
   "cell_type": "code",
   "execution_count": 17,
   "id": "ed160705",
   "metadata": {},
   "outputs": [
    {
     "name": "stdout",
     "output_type": "stream",
     "text": [
      "        feature_names  feature_ranking  support\n",
      "1    Destination Port                1     True\n",
      "2     NAT Source Port                1     True\n",
      "7  Elapsed Time (sec)                1     True\n",
      "0         Source Port                2    False\n",
      "5      Bytes Received                3    False\n",
      "9       pkts_received                4    False\n",
      "6             Packets                5    False\n",
      "3               Bytes                6    False\n",
      "8           pkts_sent                7    False\n",
      "4          Bytes Sent                8    False\n",
      "Number of features selected with CV: 3\n"
     ]
    }
   ],
   "source": [
    "# CONVERT TO DATAFRAME \n",
    "df = pd.DataFrame({'feature_names': X.columns.tolist(), \n",
    "                          'feature_ranking': rfecv_dtr.ranking_, 'support': rfecv_dtr.support_})\n",
    "print(df.sort_values('feature_ranking'))\n",
    "print(f\"Number of features selected with CV: {rfecv_dtr.n_features_}\")"
   ]
  },
  {
   "cell_type": "markdown",
   "id": "e5ef75b7",
   "metadata": {},
   "source": [
    "### 2. Forward Feature Selection"
   ]
  },
  {
   "cell_type": "code",
   "execution_count": 18,
   "id": "c3878ee0",
   "metadata": {},
   "outputs": [],
   "source": [
    "# IMPORT DEPENDENCIES\n",
    "from sklearn.feature_selection import SequentialFeatureSelector"
   ]
  },
  {
   "cell_type": "code",
   "execution_count": 19,
   "id": "2afe1fd4",
   "metadata": {},
   "outputs": [
    {
     "name": "stdout",
     "output_type": "stream",
     "text": [
      "        feature_names  support\n",
      "0         Source Port    False\n",
      "1    Destination Port     True\n",
      "2     NAT Source Port     True\n",
      "3               Bytes     True\n",
      "4          Bytes Sent     True\n",
      "5      Bytes Received    False\n",
      "6             Packets    False\n",
      "7  Elapsed Time (sec)     True\n",
      "8           pkts_sent    False\n",
      "9       pkts_received    False\n",
      "Optimal subset size using forward feature selection: 5\n"
     ]
    }
   ],
   "source": [
    "# PERFORM FORWARD SELECTION AND AUTO SELECT NUMBER OF FEATURES \n",
    "sfs = SequentialFeatureSelector(estimator, n_features_to_select='auto', direction='forward')\n",
    "sfs.fit(X_norm, y)\n",
    "sfs_support = sfs.get_support()\n",
    "\n",
    "# CONVERT TO DATAFRAME \n",
    "df = pd.DataFrame({'feature_names': X.columns.tolist(), 'support': sfs_support})\n",
    "print(df)\n",
    "sfs_feature = X.loc[:,sfs_support].columns.tolist()\n",
    "print(f\"Optimal subset size using forward feature selection: {len(sfs_feature)}\")"
   ]
  },
  {
   "cell_type": "markdown",
   "id": "4a7c1424",
   "metadata": {},
   "source": [
    "### 3. Backward Elimination"
   ]
  },
  {
   "cell_type": "code",
   "execution_count": 20,
   "id": "5a83569a",
   "metadata": {},
   "outputs": [
    {
     "name": "stdout",
     "output_type": "stream",
     "text": [
      "        feature_names  support\n",
      "0         Source Port    False\n",
      "1    Destination Port     True\n",
      "2     NAT Source Port     True\n",
      "3               Bytes    False\n",
      "4          Bytes Sent    False\n",
      "5      Bytes Received    False\n",
      "6             Packets    False\n",
      "7  Elapsed Time (sec)     True\n",
      "8           pkts_sent     True\n",
      "9       pkts_received     True\n",
      "Optimal subset size using forward feature selection: 5\n"
     ]
    }
   ],
   "source": [
    "# PERFORM BACKWARD SELECTION AND AUTO SELECT NUMBER OF FEATURES \n",
    "sfs2 = SequentialFeatureSelector(estimator, n_features_to_select='auto', direction='backward')\n",
    "sfs2.fit(X_norm, y)\n",
    "sfs2_support = sfs2.get_support()\n",
    "\n",
    "# CONVERT TO DATAFRAME \n",
    "df = pd.DataFrame({'feature_names': X.columns.tolist(), 'support': sfs2_support})\n",
    "print(df)\n",
    "sfs2_feature = X.loc[:,sfs2_support].columns.tolist()\n",
    "print(f\"Optimal subset size using forward feature selection: {len(sfs2_feature)}\")"
   ]
  },
  {
   "cell_type": "markdown",
   "id": "5a2b2e49",
   "metadata": {},
   "source": [
    "## IV. Embedded methods"
   ]
  },
  {
   "cell_type": "markdown",
   "id": "e24702e9",
   "metadata": {},
   "source": [
    "### 1. SelectFromModel"
   ]
  },
  {
   "cell_type": "code",
   "execution_count": 21,
   "id": "0cc3d101",
   "metadata": {},
   "outputs": [],
   "source": [
    "# IMPORT DEPENDENCIES\n",
    "from sklearn.feature_selection import SelectFromModel\n",
    "from sklearn.linear_model import LassoCV"
   ]
  },
  {
   "cell_type": "code",
   "execution_count": 22,
   "id": "36b03577",
   "metadata": {},
   "outputs": [
    {
     "name": "stdout",
     "output_type": "stream",
     "text": [
      "        feature_names  support\n",
      "0         Source Port    False\n",
      "1    Destination Port     True\n",
      "2     NAT Source Port     True\n",
      "3               Bytes    False\n",
      "4          Bytes Sent    False\n",
      "5      Bytes Received    False\n",
      "6             Packets    False\n",
      "7  Elapsed Time (sec)     True\n",
      "8           pkts_sent    False\n",
      "9       pkts_received    False\n",
      "3 selected features: ['Destination Port', 'NAT Source Port', 'Elapsed Time (sec)'] \n"
     ]
    }
   ],
   "source": [
    "#set hyperparam n_estimators=50 \n",
    "embedded_rf = SelectFromModel(estimator, max_features=6)\n",
    "embedded_rf.fit(X_norm, y)\n",
    "embedded_rf_support = embedded_rf.get_support()\n",
    "embedded_rf_feature = X.loc[:,embedded_rf_support].columns.tolist()\n",
    "\n",
    "# CONVERT TO DATAFRAME \n",
    "df = pd.DataFrame({'feature_names': X.columns.tolist(), 'support': embedded_rf_support})\n",
    "print(df)\n",
    "print(f\"{len(embedded_rf_feature)} selected features: {embedded_rf_feature} \")"
   ]
  },
  {
   "cell_type": "markdown",
   "id": "273f9084",
   "metadata": {},
   "source": [
    "## Combined results"
   ]
  },
  {
   "cell_type": "code",
   "execution_count": 23,
   "id": "6e9aabe0",
   "metadata": {},
   "outputs": [
    {
     "data": {
      "text/html": [
       "<div>\n",
       "<style scoped>\n",
       "    .dataframe tbody tr th:only-of-type {\n",
       "        vertical-align: middle;\n",
       "    }\n",
       "\n",
       "    .dataframe tbody tr th {\n",
       "        vertical-align: top;\n",
       "    }\n",
       "\n",
       "    .dataframe thead th {\n",
       "        text-align: right;\n",
       "    }\n",
       "</style>\n",
       "<table border=\"1\" class=\"dataframe\">\n",
       "  <thead>\n",
       "    <tr style=\"text-align: right;\">\n",
       "      <th></th>\n",
       "      <th>Feature</th>\n",
       "      <th>Chi-2</th>\n",
       "      <th>RFE_LR</th>\n",
       "      <th>RFECV_LR</th>\n",
       "      <th>FFS_LR</th>\n",
       "      <th>BE_LR</th>\n",
       "      <th>SelectFromModel_LR</th>\n",
       "      <th>Total</th>\n",
       "    </tr>\n",
       "  </thead>\n",
       "  <tbody>\n",
       "    <tr>\n",
       "      <th>1</th>\n",
       "      <td>Destination Port</td>\n",
       "      <td>True</td>\n",
       "      <td>True</td>\n",
       "      <td>True</td>\n",
       "      <td>True</td>\n",
       "      <td>True</td>\n",
       "      <td>True</td>\n",
       "      <td>6</td>\n",
       "    </tr>\n",
       "    <tr>\n",
       "      <th>2</th>\n",
       "      <td>NAT Source Port</td>\n",
       "      <td>True</td>\n",
       "      <td>True</td>\n",
       "      <td>True</td>\n",
       "      <td>True</td>\n",
       "      <td>True</td>\n",
       "      <td>True</td>\n",
       "      <td>6</td>\n",
       "    </tr>\n",
       "    <tr>\n",
       "      <th>7</th>\n",
       "      <td>Elapsed Time (sec)</td>\n",
       "      <td>True</td>\n",
       "      <td>True</td>\n",
       "      <td>True</td>\n",
       "      <td>True</td>\n",
       "      <td>True</td>\n",
       "      <td>True</td>\n",
       "      <td>6</td>\n",
       "    </tr>\n",
       "    <tr>\n",
       "      <th>9</th>\n",
       "      <td>pkts_received</td>\n",
       "      <td>True</td>\n",
       "      <td>True</td>\n",
       "      <td>False</td>\n",
       "      <td>False</td>\n",
       "      <td>True</td>\n",
       "      <td>False</td>\n",
       "      <td>3</td>\n",
       "    </tr>\n",
       "    <tr>\n",
       "      <th>0</th>\n",
       "      <td>Source Port</td>\n",
       "      <td>True</td>\n",
       "      <td>True</td>\n",
       "      <td>False</td>\n",
       "      <td>False</td>\n",
       "      <td>False</td>\n",
       "      <td>False</td>\n",
       "      <td>2</td>\n",
       "    </tr>\n",
       "    <tr>\n",
       "      <th>5</th>\n",
       "      <td>Bytes Received</td>\n",
       "      <td>True</td>\n",
       "      <td>True</td>\n",
       "      <td>False</td>\n",
       "      <td>False</td>\n",
       "      <td>False</td>\n",
       "      <td>False</td>\n",
       "      <td>2</td>\n",
       "    </tr>\n",
       "    <tr>\n",
       "      <th>3</th>\n",
       "      <td>Bytes</td>\n",
       "      <td>False</td>\n",
       "      <td>False</td>\n",
       "      <td>False</td>\n",
       "      <td>True</td>\n",
       "      <td>False</td>\n",
       "      <td>False</td>\n",
       "      <td>1</td>\n",
       "    </tr>\n",
       "    <tr>\n",
       "      <th>4</th>\n",
       "      <td>Bytes Sent</td>\n",
       "      <td>False</td>\n",
       "      <td>False</td>\n",
       "      <td>False</td>\n",
       "      <td>True</td>\n",
       "      <td>False</td>\n",
       "      <td>False</td>\n",
       "      <td>1</td>\n",
       "    </tr>\n",
       "    <tr>\n",
       "      <th>8</th>\n",
       "      <td>pkts_sent</td>\n",
       "      <td>False</td>\n",
       "      <td>False</td>\n",
       "      <td>False</td>\n",
       "      <td>False</td>\n",
       "      <td>True</td>\n",
       "      <td>False</td>\n",
       "      <td>1</td>\n",
       "    </tr>\n",
       "    <tr>\n",
       "      <th>6</th>\n",
       "      <td>Packets</td>\n",
       "      <td>False</td>\n",
       "      <td>False</td>\n",
       "      <td>False</td>\n",
       "      <td>False</td>\n",
       "      <td>False</td>\n",
       "      <td>False</td>\n",
       "      <td>0</td>\n",
       "    </tr>\n",
       "  </tbody>\n",
       "</table>\n",
       "</div>"
      ],
      "text/plain": [
       "              Feature  Chi-2  RFE_LR  RFECV_LR  FFS_LR  BE_LR  \\\n",
       "1    Destination Port   True    True      True    True   True   \n",
       "2     NAT Source Port   True    True      True    True   True   \n",
       "7  Elapsed Time (sec)   True    True      True    True   True   \n",
       "9       pkts_received   True    True     False   False   True   \n",
       "0         Source Port   True    True     False   False  False   \n",
       "5      Bytes Received   True    True     False   False  False   \n",
       "3               Bytes  False   False     False    True  False   \n",
       "4          Bytes Sent  False   False     False    True  False   \n",
       "8           pkts_sent  False   False     False   False   True   \n",
       "6             Packets  False   False     False   False  False   \n",
       "\n",
       "   SelectFromModel_LR  Total  \n",
       "1                True      6  \n",
       "2                True      6  \n",
       "7                True      6  \n",
       "9               False      3  \n",
       "0               False      2  \n",
       "5               False      2  \n",
       "3               False      1  \n",
       "4               False      1  \n",
       "8               False      1  \n",
       "6               False      0  "
      ]
     },
     "execution_count": 23,
     "metadata": {},
     "output_type": "execute_result"
    }
   ],
   "source": [
    "featureselection_df = pd.DataFrame({'Feature':feature_names,\n",
    "                                    'Chi-2':chi_support, \n",
    "                                    'RFE_LR':rfe_lr_support , \n",
    "                                    'RFECV_LR': rfecv_dtr.support_ , \n",
    "                                    'FFS_LR':sfs_support, \n",
    "                                    'BE_LR':sfs2_support,\n",
    "                                    'SelectFromModel_LR': embedded_rf_support})\n",
    "featureselection_df['Total'] = np.sum(featureselection_df.iloc[:, 1:], axis=1) #sum Trues \n",
    "featureselection_df.sort_values('Total', ascending=False)"
   ]
  },
  {
   "cell_type": "markdown",
   "id": "ae834305",
   "metadata": {},
   "source": [
    "# Random Forest"
   ]
  },
  {
   "cell_type": "markdown",
   "id": "006e5242",
   "metadata": {},
   "source": [
    "#### Top 3 features "
   ]
  },
  {
   "cell_type": "code",
   "execution_count": 115,
   "id": "e610e9e6",
   "metadata": {},
   "outputs": [],
   "source": [
    "from sklearn.ensemble import RandomForestClassifier\n",
    "from sklearn import metrics"
   ]
  },
  {
   "cell_type": "code",
   "execution_count": 116,
   "id": "5f7cca8d",
   "metadata": {},
   "outputs": [],
   "source": [
    "features = ['Destination Port', 'NAT Source Port', 'Elapsed Time (sec)'] #top 3 features \n",
    "X = internet_firewall[features] #independent variables \n",
    "X_norm = MinMaxScaler().fit_transform(X) #scale features (models can be sensitive to scale of input)"
   ]
  },
  {
   "cell_type": "code",
   "execution_count": 117,
   "id": "e1886af2",
   "metadata": {},
   "outputs": [],
   "source": [
    "# SPLIT DATA INTO TRAINING AND TEST SET\n",
    "X_train, X_test, y_train, y_test = train_test_split(X_norm, y, test_size=0.2, random_state=42)"
   ]
  },
  {
   "cell_type": "code",
   "execution_count": 118,
   "id": "53a57b53",
   "metadata": {},
   "outputs": [
    {
     "data": {
      "text/html": [
       "<style>#sk-container-id-14 {color: black;background-color: white;}#sk-container-id-14 pre{padding: 0;}#sk-container-id-14 div.sk-toggleable {background-color: white;}#sk-container-id-14 label.sk-toggleable__label {cursor: pointer;display: block;width: 100%;margin-bottom: 0;padding: 0.3em;box-sizing: border-box;text-align: center;}#sk-container-id-14 label.sk-toggleable__label-arrow:before {content: \"▸\";float: left;margin-right: 0.25em;color: #696969;}#sk-container-id-14 label.sk-toggleable__label-arrow:hover:before {color: black;}#sk-container-id-14 div.sk-estimator:hover label.sk-toggleable__label-arrow:before {color: black;}#sk-container-id-14 div.sk-toggleable__content {max-height: 0;max-width: 0;overflow: hidden;text-align: left;background-color: #f0f8ff;}#sk-container-id-14 div.sk-toggleable__content pre {margin: 0.2em;color: black;border-radius: 0.25em;background-color: #f0f8ff;}#sk-container-id-14 input.sk-toggleable__control:checked~div.sk-toggleable__content {max-height: 200px;max-width: 100%;overflow: auto;}#sk-container-id-14 input.sk-toggleable__control:checked~label.sk-toggleable__label-arrow:before {content: \"▾\";}#sk-container-id-14 div.sk-estimator input.sk-toggleable__control:checked~label.sk-toggleable__label {background-color: #d4ebff;}#sk-container-id-14 div.sk-label input.sk-toggleable__control:checked~label.sk-toggleable__label {background-color: #d4ebff;}#sk-container-id-14 input.sk-hidden--visually {border: 0;clip: rect(1px 1px 1px 1px);clip: rect(1px, 1px, 1px, 1px);height: 1px;margin: -1px;overflow: hidden;padding: 0;position: absolute;width: 1px;}#sk-container-id-14 div.sk-estimator {font-family: monospace;background-color: #f0f8ff;border: 1px dotted black;border-radius: 0.25em;box-sizing: border-box;margin-bottom: 0.5em;}#sk-container-id-14 div.sk-estimator:hover {background-color: #d4ebff;}#sk-container-id-14 div.sk-parallel-item::after {content: \"\";width: 100%;border-bottom: 1px solid gray;flex-grow: 1;}#sk-container-id-14 div.sk-label:hover label.sk-toggleable__label {background-color: #d4ebff;}#sk-container-id-14 div.sk-serial::before {content: \"\";position: absolute;border-left: 1px solid gray;box-sizing: border-box;top: 0;bottom: 0;left: 50%;z-index: 0;}#sk-container-id-14 div.sk-serial {display: flex;flex-direction: column;align-items: center;background-color: white;padding-right: 0.2em;padding-left: 0.2em;position: relative;}#sk-container-id-14 div.sk-item {position: relative;z-index: 1;}#sk-container-id-14 div.sk-parallel {display: flex;align-items: stretch;justify-content: center;background-color: white;position: relative;}#sk-container-id-14 div.sk-item::before, #sk-container-id-14 div.sk-parallel-item::before {content: \"\";position: absolute;border-left: 1px solid gray;box-sizing: border-box;top: 0;bottom: 0;left: 50%;z-index: -1;}#sk-container-id-14 div.sk-parallel-item {display: flex;flex-direction: column;z-index: 1;position: relative;background-color: white;}#sk-container-id-14 div.sk-parallel-item:first-child::after {align-self: flex-end;width: 50%;}#sk-container-id-14 div.sk-parallel-item:last-child::after {align-self: flex-start;width: 50%;}#sk-container-id-14 div.sk-parallel-item:only-child::after {width: 0;}#sk-container-id-14 div.sk-dashed-wrapped {border: 1px dashed gray;margin: 0 0.4em 0.5em 0.4em;box-sizing: border-box;padding-bottom: 0.4em;background-color: white;}#sk-container-id-14 div.sk-label label {font-family: monospace;font-weight: bold;display: inline-block;line-height: 1.2em;}#sk-container-id-14 div.sk-label-container {text-align: center;}#sk-container-id-14 div.sk-container {/* jupyter's `normalize.less` sets `[hidden] { display: none; }` but bootstrap.min.css set `[hidden] { display: none !important; }` so we also need the `!important` here to be able to override the default hidden behavior on the sphinx rendered scikit-learn.org. See: https://github.com/scikit-learn/scikit-learn/issues/21755 */display: inline-block !important;position: relative;}#sk-container-id-14 div.sk-text-repr-fallback {display: none;}</style><div id=\"sk-container-id-14\" class=\"sk-top-container\"><div class=\"sk-text-repr-fallback\"><pre>RandomForestClassifier()</pre><b>In a Jupyter environment, please rerun this cell to show the HTML representation or trust the notebook. <br />On GitHub, the HTML representation is unable to render, please try loading this page with nbviewer.org.</b></div><div class=\"sk-container\" hidden><div class=\"sk-item\"><div class=\"sk-estimator sk-toggleable\"><input class=\"sk-toggleable__control sk-hidden--visually\" id=\"sk-estimator-id-16\" type=\"checkbox\" checked><label for=\"sk-estimator-id-16\" class=\"sk-toggleable__label sk-toggleable__label-arrow\">RandomForestClassifier</label><div class=\"sk-toggleable__content\"><pre>RandomForestClassifier()</pre></div></div></div></div></div>"
      ],
      "text/plain": [
       "RandomForestClassifier()"
      ]
     },
     "execution_count": 118,
     "metadata": {},
     "output_type": "execute_result"
    }
   ],
   "source": [
    "# FIT RANDOM FOREST \n",
    "rf_clf = RandomForestClassifier() \n",
    "rf_clf.fit(X_train, y_train)"
   ]
  },
  {
   "cell_type": "code",
   "execution_count": 119,
   "id": "8d02ee0d",
   "metadata": {},
   "outputs": [
    {
     "name": "stdout",
     "output_type": "stream",
     "text": [
      "Accuracy:  0.9981689173723964\n"
     ]
    }
   ],
   "source": [
    "#PREDICTION AND ACCURACY\n",
    "y_pred = rf_clf.predict(X_test)\n",
    "acc1 = metrics.accuracy_score(y_test, y_pred)\n",
    "print(\"Accuracy: \", acc1)"
   ]
  },
  {
   "cell_type": "code",
   "execution_count": 120,
   "id": "5fb1c898",
   "metadata": {},
   "outputs": [
    {
     "name": "stdout",
     "output_type": "stream",
     "text": [
      "F1-score:  0.9981689173723964\n",
      "F1-score:  0.9791621419684439\n",
      "F1-score:  0.9981727897816209\n"
     ]
    }
   ],
   "source": [
    "# F1-SCORE\n",
    "scorea1 = metrics.f1_score(y_test, y_pred,average='micro')\n",
    "print(\"F1-score: \", scorea1)\n",
    "scorea2 = metrics.f1_score(y_test, y_pred,average='macro')\n",
    "print(\"F1-score: \", scorea2)\n",
    "scorea3 = metrics.f1_score(y_test, y_pred,average='weighted')\n",
    "print(\"F1-score: \", scorea3)"
   ]
  },
  {
   "cell_type": "code",
   "execution_count": 121,
   "id": "53e2061a",
   "metadata": {},
   "outputs": [
    {
     "data": {
      "text/plain": [
       "Destination Port      0.508699\n",
       "Elapsed Time (sec)    0.248088\n",
       "NAT Source Port       0.243213\n",
       "dtype: float64"
      ]
     },
     "execution_count": 121,
     "metadata": {},
     "output_type": "execute_result"
    }
   ],
   "source": [
    "# FEATURE IMPORTANCE\n",
    "feature_imp = pd.Series(rf_clf.feature_importances_, index = features).sort_values(ascending=False)\n",
    "feature_imp"
   ]
  },
  {
   "cell_type": "markdown",
   "id": "4f256ba7",
   "metadata": {},
   "source": [
    "#### All features "
   ]
  },
  {
   "cell_type": "code",
   "execution_count": 122,
   "id": "51a7e4ad",
   "metadata": {},
   "outputs": [],
   "source": [
    "features = ['Source Port', 'Destination Port', 'NAT Source Port', \n",
    "                'Bytes', 'Bytes Sent', 'Bytes Received', 'Packets', \n",
    "                'Elapsed Time (sec)', 'pkts_sent', 'pkts_received'] #all features \n",
    "X = internet_firewall[features] #independent variables \n",
    "X_norm = MinMaxScaler().fit_transform(X) #scale features (models can be sensitive to scale of input)"
   ]
  },
  {
   "cell_type": "code",
   "execution_count": 123,
   "id": "9668e16c",
   "metadata": {},
   "outputs": [],
   "source": [
    "# SPLIT DATA INTO TRAINING AND TEST SET\n",
    "X_train, X_test, y_train, y_test = train_test_split(X_norm, y, test_size=0.2, random_state=42)"
   ]
  },
  {
   "cell_type": "code",
   "execution_count": 124,
   "id": "6dedadc7",
   "metadata": {},
   "outputs": [
    {
     "data": {
      "text/html": [
       "<style>#sk-container-id-15 {color: black;background-color: white;}#sk-container-id-15 pre{padding: 0;}#sk-container-id-15 div.sk-toggleable {background-color: white;}#sk-container-id-15 label.sk-toggleable__label {cursor: pointer;display: block;width: 100%;margin-bottom: 0;padding: 0.3em;box-sizing: border-box;text-align: center;}#sk-container-id-15 label.sk-toggleable__label-arrow:before {content: \"▸\";float: left;margin-right: 0.25em;color: #696969;}#sk-container-id-15 label.sk-toggleable__label-arrow:hover:before {color: black;}#sk-container-id-15 div.sk-estimator:hover label.sk-toggleable__label-arrow:before {color: black;}#sk-container-id-15 div.sk-toggleable__content {max-height: 0;max-width: 0;overflow: hidden;text-align: left;background-color: #f0f8ff;}#sk-container-id-15 div.sk-toggleable__content pre {margin: 0.2em;color: black;border-radius: 0.25em;background-color: #f0f8ff;}#sk-container-id-15 input.sk-toggleable__control:checked~div.sk-toggleable__content {max-height: 200px;max-width: 100%;overflow: auto;}#sk-container-id-15 input.sk-toggleable__control:checked~label.sk-toggleable__label-arrow:before {content: \"▾\";}#sk-container-id-15 div.sk-estimator input.sk-toggleable__control:checked~label.sk-toggleable__label {background-color: #d4ebff;}#sk-container-id-15 div.sk-label input.sk-toggleable__control:checked~label.sk-toggleable__label {background-color: #d4ebff;}#sk-container-id-15 input.sk-hidden--visually {border: 0;clip: rect(1px 1px 1px 1px);clip: rect(1px, 1px, 1px, 1px);height: 1px;margin: -1px;overflow: hidden;padding: 0;position: absolute;width: 1px;}#sk-container-id-15 div.sk-estimator {font-family: monospace;background-color: #f0f8ff;border: 1px dotted black;border-radius: 0.25em;box-sizing: border-box;margin-bottom: 0.5em;}#sk-container-id-15 div.sk-estimator:hover {background-color: #d4ebff;}#sk-container-id-15 div.sk-parallel-item::after {content: \"\";width: 100%;border-bottom: 1px solid gray;flex-grow: 1;}#sk-container-id-15 div.sk-label:hover label.sk-toggleable__label {background-color: #d4ebff;}#sk-container-id-15 div.sk-serial::before {content: \"\";position: absolute;border-left: 1px solid gray;box-sizing: border-box;top: 0;bottom: 0;left: 50%;z-index: 0;}#sk-container-id-15 div.sk-serial {display: flex;flex-direction: column;align-items: center;background-color: white;padding-right: 0.2em;padding-left: 0.2em;position: relative;}#sk-container-id-15 div.sk-item {position: relative;z-index: 1;}#sk-container-id-15 div.sk-parallel {display: flex;align-items: stretch;justify-content: center;background-color: white;position: relative;}#sk-container-id-15 div.sk-item::before, #sk-container-id-15 div.sk-parallel-item::before {content: \"\";position: absolute;border-left: 1px solid gray;box-sizing: border-box;top: 0;bottom: 0;left: 50%;z-index: -1;}#sk-container-id-15 div.sk-parallel-item {display: flex;flex-direction: column;z-index: 1;position: relative;background-color: white;}#sk-container-id-15 div.sk-parallel-item:first-child::after {align-self: flex-end;width: 50%;}#sk-container-id-15 div.sk-parallel-item:last-child::after {align-self: flex-start;width: 50%;}#sk-container-id-15 div.sk-parallel-item:only-child::after {width: 0;}#sk-container-id-15 div.sk-dashed-wrapped {border: 1px dashed gray;margin: 0 0.4em 0.5em 0.4em;box-sizing: border-box;padding-bottom: 0.4em;background-color: white;}#sk-container-id-15 div.sk-label label {font-family: monospace;font-weight: bold;display: inline-block;line-height: 1.2em;}#sk-container-id-15 div.sk-label-container {text-align: center;}#sk-container-id-15 div.sk-container {/* jupyter's `normalize.less` sets `[hidden] { display: none; }` but bootstrap.min.css set `[hidden] { display: none !important; }` so we also need the `!important` here to be able to override the default hidden behavior on the sphinx rendered scikit-learn.org. See: https://github.com/scikit-learn/scikit-learn/issues/21755 */display: inline-block !important;position: relative;}#sk-container-id-15 div.sk-text-repr-fallback {display: none;}</style><div id=\"sk-container-id-15\" class=\"sk-top-container\"><div class=\"sk-text-repr-fallback\"><pre>RandomForestClassifier()</pre><b>In a Jupyter environment, please rerun this cell to show the HTML representation or trust the notebook. <br />On GitHub, the HTML representation is unable to render, please try loading this page with nbviewer.org.</b></div><div class=\"sk-container\" hidden><div class=\"sk-item\"><div class=\"sk-estimator sk-toggleable\"><input class=\"sk-toggleable__control sk-hidden--visually\" id=\"sk-estimator-id-17\" type=\"checkbox\" checked><label for=\"sk-estimator-id-17\" class=\"sk-toggleable__label sk-toggleable__label-arrow\">RandomForestClassifier</label><div class=\"sk-toggleable__content\"><pre>RandomForestClassifier()</pre></div></div></div></div></div>"
      ],
      "text/plain": [
       "RandomForestClassifier()"
      ]
     },
     "execution_count": 124,
     "metadata": {},
     "output_type": "execute_result"
    }
   ],
   "source": [
    "# FIT RANDOM FOREST \n",
    "rf_clf1 = RandomForestClassifier() \n",
    "rf_clf1.fit(X_train, y_train)"
   ]
  },
  {
   "cell_type": "code",
   "execution_count": 125,
   "id": "bad8fd9e",
   "metadata": {},
   "outputs": [
    {
     "name": "stdout",
     "output_type": "stream",
     "text": [
      "Accuracy:  0.9981689173723964\n"
     ]
    }
   ],
   "source": [
    "#PREDICTION AND ACCURACY\n",
    "y_pred = rf_clf1.predict(X_test)\n",
    "acc2 = metrics.accuracy_score(y_test, y_pred)\n",
    "print(\"Accuracy: \", acc2)"
   ]
  },
  {
   "cell_type": "code",
   "execution_count": 126,
   "id": "92ec6fa9",
   "metadata": {},
   "outputs": [
    {
     "name": "stdout",
     "output_type": "stream",
     "text": [
      "F1-score:  0.9981689173723964\n",
      "F1-score:  0.9148329708333357\n",
      "F1-score:  0.9981304432004069\n"
     ]
    }
   ],
   "source": [
    "# F1-SCORE\n",
    "scoreb1 = metrics.f1_score(y_test, y_pred,average='micro')\n",
    "print(\"F1-score: \", scoreb1)\n",
    "scoreb2 = metrics.f1_score(y_test, y_pred,average='macro')\n",
    "print(\"F1-score: \", scoreb2)\n",
    "scoreb3 = metrics.f1_score(y_test, y_pred,average='weighted')\n",
    "print(\"F1-score: \", scoreb3)"
   ]
  },
  {
   "cell_type": "code",
   "execution_count": 127,
   "id": "3813a742",
   "metadata": {},
   "outputs": [
    {
     "data": {
      "text/plain": [
       "Destination Port      0.272707\n",
       "NAT Source Port       0.215877\n",
       "Elapsed Time (sec)    0.197022\n",
       "Packets               0.117844\n",
       "Source Port           0.066619\n",
       "Bytes Received        0.062754\n",
       "pkts_received         0.058732\n",
       "pkts_sent             0.007910\n",
       "Bytes Sent            0.000321\n",
       "Bytes                 0.000213\n",
       "dtype: float64"
      ]
     },
     "execution_count": 127,
     "metadata": {},
     "output_type": "execute_result"
    }
   ],
   "source": [
    "# FEATURE IMPORTANCE\n",
    "feature_imp = pd.Series(rf_clf1.feature_importances_, index = features).sort_values(ascending=False)\n",
    "feature_imp"
   ]
  },
  {
   "cell_type": "markdown",
   "id": "8fb32a99",
   "metadata": {},
   "source": [
    "#### Top 6 features "
   ]
  },
  {
   "cell_type": "code",
   "execution_count": 128,
   "id": "0899c79d",
   "metadata": {},
   "outputs": [],
   "source": [
    "features = ['Destination Port', 'NAT Source Port', 'Elapsed Time (sec)', 'pkts_received', 'Source Port', 'Bytes Received'] #all features \n",
    "X = internet_firewall[features] #independent variables \n",
    "X_norm = MinMaxScaler().fit_transform(X) #scale features (models can be sensitive to scale of input)"
   ]
  },
  {
   "cell_type": "code",
   "execution_count": 129,
   "id": "9de1634f",
   "metadata": {},
   "outputs": [],
   "source": [
    "# SPLIT DATA INTO TRAINING AND TEST SET\n",
    "X_train, X_test, y_train, y_test = train_test_split(X_norm, y, test_size=0.2, random_state=42)"
   ]
  },
  {
   "cell_type": "code",
   "execution_count": 130,
   "id": "cb2df052",
   "metadata": {},
   "outputs": [
    {
     "data": {
      "text/html": [
       "<style>#sk-container-id-16 {color: black;background-color: white;}#sk-container-id-16 pre{padding: 0;}#sk-container-id-16 div.sk-toggleable {background-color: white;}#sk-container-id-16 label.sk-toggleable__label {cursor: pointer;display: block;width: 100%;margin-bottom: 0;padding: 0.3em;box-sizing: border-box;text-align: center;}#sk-container-id-16 label.sk-toggleable__label-arrow:before {content: \"▸\";float: left;margin-right: 0.25em;color: #696969;}#sk-container-id-16 label.sk-toggleable__label-arrow:hover:before {color: black;}#sk-container-id-16 div.sk-estimator:hover label.sk-toggleable__label-arrow:before {color: black;}#sk-container-id-16 div.sk-toggleable__content {max-height: 0;max-width: 0;overflow: hidden;text-align: left;background-color: #f0f8ff;}#sk-container-id-16 div.sk-toggleable__content pre {margin: 0.2em;color: black;border-radius: 0.25em;background-color: #f0f8ff;}#sk-container-id-16 input.sk-toggleable__control:checked~div.sk-toggleable__content {max-height: 200px;max-width: 100%;overflow: auto;}#sk-container-id-16 input.sk-toggleable__control:checked~label.sk-toggleable__label-arrow:before {content: \"▾\";}#sk-container-id-16 div.sk-estimator input.sk-toggleable__control:checked~label.sk-toggleable__label {background-color: #d4ebff;}#sk-container-id-16 div.sk-label input.sk-toggleable__control:checked~label.sk-toggleable__label {background-color: #d4ebff;}#sk-container-id-16 input.sk-hidden--visually {border: 0;clip: rect(1px 1px 1px 1px);clip: rect(1px, 1px, 1px, 1px);height: 1px;margin: -1px;overflow: hidden;padding: 0;position: absolute;width: 1px;}#sk-container-id-16 div.sk-estimator {font-family: monospace;background-color: #f0f8ff;border: 1px dotted black;border-radius: 0.25em;box-sizing: border-box;margin-bottom: 0.5em;}#sk-container-id-16 div.sk-estimator:hover {background-color: #d4ebff;}#sk-container-id-16 div.sk-parallel-item::after {content: \"\";width: 100%;border-bottom: 1px solid gray;flex-grow: 1;}#sk-container-id-16 div.sk-label:hover label.sk-toggleable__label {background-color: #d4ebff;}#sk-container-id-16 div.sk-serial::before {content: \"\";position: absolute;border-left: 1px solid gray;box-sizing: border-box;top: 0;bottom: 0;left: 50%;z-index: 0;}#sk-container-id-16 div.sk-serial {display: flex;flex-direction: column;align-items: center;background-color: white;padding-right: 0.2em;padding-left: 0.2em;position: relative;}#sk-container-id-16 div.sk-item {position: relative;z-index: 1;}#sk-container-id-16 div.sk-parallel {display: flex;align-items: stretch;justify-content: center;background-color: white;position: relative;}#sk-container-id-16 div.sk-item::before, #sk-container-id-16 div.sk-parallel-item::before {content: \"\";position: absolute;border-left: 1px solid gray;box-sizing: border-box;top: 0;bottom: 0;left: 50%;z-index: -1;}#sk-container-id-16 div.sk-parallel-item {display: flex;flex-direction: column;z-index: 1;position: relative;background-color: white;}#sk-container-id-16 div.sk-parallel-item:first-child::after {align-self: flex-end;width: 50%;}#sk-container-id-16 div.sk-parallel-item:last-child::after {align-self: flex-start;width: 50%;}#sk-container-id-16 div.sk-parallel-item:only-child::after {width: 0;}#sk-container-id-16 div.sk-dashed-wrapped {border: 1px dashed gray;margin: 0 0.4em 0.5em 0.4em;box-sizing: border-box;padding-bottom: 0.4em;background-color: white;}#sk-container-id-16 div.sk-label label {font-family: monospace;font-weight: bold;display: inline-block;line-height: 1.2em;}#sk-container-id-16 div.sk-label-container {text-align: center;}#sk-container-id-16 div.sk-container {/* jupyter's `normalize.less` sets `[hidden] { display: none; }` but bootstrap.min.css set `[hidden] { display: none !important; }` so we also need the `!important` here to be able to override the default hidden behavior on the sphinx rendered scikit-learn.org. See: https://github.com/scikit-learn/scikit-learn/issues/21755 */display: inline-block !important;position: relative;}#sk-container-id-16 div.sk-text-repr-fallback {display: none;}</style><div id=\"sk-container-id-16\" class=\"sk-top-container\"><div class=\"sk-text-repr-fallback\"><pre>RandomForestClassifier()</pre><b>In a Jupyter environment, please rerun this cell to show the HTML representation or trust the notebook. <br />On GitHub, the HTML representation is unable to render, please try loading this page with nbviewer.org.</b></div><div class=\"sk-container\" hidden><div class=\"sk-item\"><div class=\"sk-estimator sk-toggleable\"><input class=\"sk-toggleable__control sk-hidden--visually\" id=\"sk-estimator-id-18\" type=\"checkbox\" checked><label for=\"sk-estimator-id-18\" class=\"sk-toggleable__label sk-toggleable__label-arrow\">RandomForestClassifier</label><div class=\"sk-toggleable__content\"><pre>RandomForestClassifier()</pre></div></div></div></div></div>"
      ],
      "text/plain": [
       "RandomForestClassifier()"
      ]
     },
     "execution_count": 130,
     "metadata": {},
     "output_type": "execute_result"
    }
   ],
   "source": [
    "# FIT RANDOM FOREST \n",
    "rf_clf2 = RandomForestClassifier() \n",
    "rf_clf2.fit(X_train, y_train)"
   ]
  },
  {
   "cell_type": "code",
   "execution_count": 131,
   "id": "a58946be",
   "metadata": {},
   "outputs": [
    {
     "name": "stdout",
     "output_type": "stream",
     "text": [
      "Accuracy:  0.9980163271534295\n"
     ]
    }
   ],
   "source": [
    "#PREDICTION AND ACCURACY\n",
    "y_pred = rf_clf2.predict(X_test)\n",
    "acc3 = metrics.accuracy_score(y_test, y_pred)\n",
    "print(\"Accuracy: \", acc3)"
   ]
  },
  {
   "cell_type": "code",
   "execution_count": 132,
   "id": "f8a870e5",
   "metadata": {},
   "outputs": [
    {
     "name": "stdout",
     "output_type": "stream",
     "text": [
      "F1-score:  0.9980163271534295\n",
      "F1-score:  0.956336085417724\n",
      "F1-score:  0.9980175805582516\n"
     ]
    }
   ],
   "source": [
    "# F1-SCORE\n",
    "scorec1 = metrics.f1_score(y_test, y_pred,average='micro')\n",
    "print(\"F1-score: \", scorec1)\n",
    "scorec2 = metrics.f1_score(y_test, y_pred,average='macro')\n",
    "print(\"F1-score: \", scorec2)\n",
    "scorec3 = metrics.f1_score(y_test, y_pred,average='weighted')\n",
    "print(\"F1-score: \", scorec3)"
   ]
  },
  {
   "cell_type": "code",
   "execution_count": 133,
   "id": "bb196edc",
   "metadata": {},
   "outputs": [
    {
     "data": {
      "text/plain": [
       "Destination Port      0.351629\n",
       "Elapsed Time (sec)    0.255207\n",
       "NAT Source Port       0.145146\n",
       "pkts_received         0.124356\n",
       "Bytes Received        0.069429\n",
       "Source Port           0.054234\n",
       "dtype: float64"
      ]
     },
     "execution_count": 133,
     "metadata": {},
     "output_type": "execute_result"
    }
   ],
   "source": [
    "# FEATURE IMPORTANCE\n",
    "feature_imp = pd.Series(rf_clf2.feature_importances_, index = features).sort_values(ascending=False)\n",
    "feature_imp"
   ]
  },
  {
   "cell_type": "markdown",
   "id": "648ea352",
   "metadata": {},
   "source": [
    "#### Top 4 features "
   ]
  },
  {
   "cell_type": "code",
   "execution_count": 134,
   "id": "e5a272ae",
   "metadata": {},
   "outputs": [],
   "source": [
    "features = ['Destination Port', 'NAT Source Port', 'Elapsed Time (sec)', 'pkts_received'] #all features \n",
    "X = internet_firewall[features] #independent variables \n",
    "X_norm = MinMaxScaler().fit_transform(X) #scale features (models can be sensitive to scale of input)"
   ]
  },
  {
   "cell_type": "code",
   "execution_count": 135,
   "id": "32edcfdf",
   "metadata": {},
   "outputs": [],
   "source": [
    "# SPLIT DATA INTO TRAINING AND TEST SET\n",
    "X_train, X_test, y_train, y_test = train_test_split(X_norm, y, test_size=0.2, random_state=42)"
   ]
  },
  {
   "cell_type": "code",
   "execution_count": 136,
   "id": "410eebae",
   "metadata": {},
   "outputs": [
    {
     "data": {
      "text/html": [
       "<style>#sk-container-id-17 {color: black;background-color: white;}#sk-container-id-17 pre{padding: 0;}#sk-container-id-17 div.sk-toggleable {background-color: white;}#sk-container-id-17 label.sk-toggleable__label {cursor: pointer;display: block;width: 100%;margin-bottom: 0;padding: 0.3em;box-sizing: border-box;text-align: center;}#sk-container-id-17 label.sk-toggleable__label-arrow:before {content: \"▸\";float: left;margin-right: 0.25em;color: #696969;}#sk-container-id-17 label.sk-toggleable__label-arrow:hover:before {color: black;}#sk-container-id-17 div.sk-estimator:hover label.sk-toggleable__label-arrow:before {color: black;}#sk-container-id-17 div.sk-toggleable__content {max-height: 0;max-width: 0;overflow: hidden;text-align: left;background-color: #f0f8ff;}#sk-container-id-17 div.sk-toggleable__content pre {margin: 0.2em;color: black;border-radius: 0.25em;background-color: #f0f8ff;}#sk-container-id-17 input.sk-toggleable__control:checked~div.sk-toggleable__content {max-height: 200px;max-width: 100%;overflow: auto;}#sk-container-id-17 input.sk-toggleable__control:checked~label.sk-toggleable__label-arrow:before {content: \"▾\";}#sk-container-id-17 div.sk-estimator input.sk-toggleable__control:checked~label.sk-toggleable__label {background-color: #d4ebff;}#sk-container-id-17 div.sk-label input.sk-toggleable__control:checked~label.sk-toggleable__label {background-color: #d4ebff;}#sk-container-id-17 input.sk-hidden--visually {border: 0;clip: rect(1px 1px 1px 1px);clip: rect(1px, 1px, 1px, 1px);height: 1px;margin: -1px;overflow: hidden;padding: 0;position: absolute;width: 1px;}#sk-container-id-17 div.sk-estimator {font-family: monospace;background-color: #f0f8ff;border: 1px dotted black;border-radius: 0.25em;box-sizing: border-box;margin-bottom: 0.5em;}#sk-container-id-17 div.sk-estimator:hover {background-color: #d4ebff;}#sk-container-id-17 div.sk-parallel-item::after {content: \"\";width: 100%;border-bottom: 1px solid gray;flex-grow: 1;}#sk-container-id-17 div.sk-label:hover label.sk-toggleable__label {background-color: #d4ebff;}#sk-container-id-17 div.sk-serial::before {content: \"\";position: absolute;border-left: 1px solid gray;box-sizing: border-box;top: 0;bottom: 0;left: 50%;z-index: 0;}#sk-container-id-17 div.sk-serial {display: flex;flex-direction: column;align-items: center;background-color: white;padding-right: 0.2em;padding-left: 0.2em;position: relative;}#sk-container-id-17 div.sk-item {position: relative;z-index: 1;}#sk-container-id-17 div.sk-parallel {display: flex;align-items: stretch;justify-content: center;background-color: white;position: relative;}#sk-container-id-17 div.sk-item::before, #sk-container-id-17 div.sk-parallel-item::before {content: \"\";position: absolute;border-left: 1px solid gray;box-sizing: border-box;top: 0;bottom: 0;left: 50%;z-index: -1;}#sk-container-id-17 div.sk-parallel-item {display: flex;flex-direction: column;z-index: 1;position: relative;background-color: white;}#sk-container-id-17 div.sk-parallel-item:first-child::after {align-self: flex-end;width: 50%;}#sk-container-id-17 div.sk-parallel-item:last-child::after {align-self: flex-start;width: 50%;}#sk-container-id-17 div.sk-parallel-item:only-child::after {width: 0;}#sk-container-id-17 div.sk-dashed-wrapped {border: 1px dashed gray;margin: 0 0.4em 0.5em 0.4em;box-sizing: border-box;padding-bottom: 0.4em;background-color: white;}#sk-container-id-17 div.sk-label label {font-family: monospace;font-weight: bold;display: inline-block;line-height: 1.2em;}#sk-container-id-17 div.sk-label-container {text-align: center;}#sk-container-id-17 div.sk-container {/* jupyter's `normalize.less` sets `[hidden] { display: none; }` but bootstrap.min.css set `[hidden] { display: none !important; }` so we also need the `!important` here to be able to override the default hidden behavior on the sphinx rendered scikit-learn.org. See: https://github.com/scikit-learn/scikit-learn/issues/21755 */display: inline-block !important;position: relative;}#sk-container-id-17 div.sk-text-repr-fallback {display: none;}</style><div id=\"sk-container-id-17\" class=\"sk-top-container\"><div class=\"sk-text-repr-fallback\"><pre>RandomForestClassifier()</pre><b>In a Jupyter environment, please rerun this cell to show the HTML representation or trust the notebook. <br />On GitHub, the HTML representation is unable to render, please try loading this page with nbviewer.org.</b></div><div class=\"sk-container\" hidden><div class=\"sk-item\"><div class=\"sk-estimator sk-toggleable\"><input class=\"sk-toggleable__control sk-hidden--visually\" id=\"sk-estimator-id-19\" type=\"checkbox\" checked><label for=\"sk-estimator-id-19\" class=\"sk-toggleable__label sk-toggleable__label-arrow\">RandomForestClassifier</label><div class=\"sk-toggleable__content\"><pre>RandomForestClassifier()</pre></div></div></div></div></div>"
      ],
      "text/plain": [
       "RandomForestClassifier()"
      ]
     },
     "execution_count": 136,
     "metadata": {},
     "output_type": "execute_result"
    }
   ],
   "source": [
    "# FIT RANDOM FOREST \n",
    "rf_clf2 = RandomForestClassifier() \n",
    "rf_clf2.fit(X_train, y_train)"
   ]
  },
  {
   "cell_type": "code",
   "execution_count": 137,
   "id": "ca0dc33b",
   "metadata": {},
   "outputs": [
    {
     "name": "stdout",
     "output_type": "stream",
     "text": [
      "Accuracy:  0.9987792782482643\n"
     ]
    }
   ],
   "source": [
    "#PREDICTION AND ACCURACY\n",
    "y_pred = rf_clf2.predict(X_test)\n",
    "acc4 = metrics.accuracy_score(y_test, y_pred)\n",
    "print(\"Accuracy: \", acc4)"
   ]
  },
  {
   "cell_type": "code",
   "execution_count": 138,
   "id": "eeb01833",
   "metadata": {},
   "outputs": [
    {
     "name": "stdout",
     "output_type": "stream",
     "text": [
      "F1-score:  0.9987792782482643\n",
      "F1-score:  0.9796275555697924\n",
      "F1-score:  0.998782415098926\n"
     ]
    }
   ],
   "source": [
    "# F1-SCORE\n",
    "scored1 = metrics.f1_score(y_test, y_pred,average='micro')\n",
    "print(\"F1-score: \", scored1)\n",
    "scored2 = metrics.f1_score(y_test, y_pred,average='macro')\n",
    "print(\"F1-score: \", scored2)\n",
    "scored3 = metrics.f1_score(y_test, y_pred,average='weighted')\n",
    "print(\"F1-score: \", scored3)"
   ]
  },
  {
   "cell_type": "markdown",
   "id": "39bf897b",
   "metadata": {},
   "source": [
    "#### Top 5 features "
   ]
  },
  {
   "cell_type": "code",
   "execution_count": 139,
   "id": "6a5f8f83",
   "metadata": {},
   "outputs": [],
   "source": [
    "features = ['Destination Port', 'NAT Source Port', 'Elapsed Time (sec)', 'pkts_received', 'Source Port'] #all features \n",
    "X = internet_firewall[features] #independent variables \n",
    "X_norm = MinMaxScaler().fit_transform(X) #scale features (models can be sensitive to scale of input)"
   ]
  },
  {
   "cell_type": "code",
   "execution_count": 140,
   "id": "60643f14",
   "metadata": {},
   "outputs": [],
   "source": [
    "# SPLIT DATA INTO TRAINING AND TEST SET\n",
    "X_train, X_test, y_train, y_test = train_test_split(X_norm, y, test_size=0.2, random_state=42)"
   ]
  },
  {
   "cell_type": "code",
   "execution_count": 141,
   "id": "7b0445bb",
   "metadata": {},
   "outputs": [
    {
     "data": {
      "text/html": [
       "<style>#sk-container-id-18 {color: black;background-color: white;}#sk-container-id-18 pre{padding: 0;}#sk-container-id-18 div.sk-toggleable {background-color: white;}#sk-container-id-18 label.sk-toggleable__label {cursor: pointer;display: block;width: 100%;margin-bottom: 0;padding: 0.3em;box-sizing: border-box;text-align: center;}#sk-container-id-18 label.sk-toggleable__label-arrow:before {content: \"▸\";float: left;margin-right: 0.25em;color: #696969;}#sk-container-id-18 label.sk-toggleable__label-arrow:hover:before {color: black;}#sk-container-id-18 div.sk-estimator:hover label.sk-toggleable__label-arrow:before {color: black;}#sk-container-id-18 div.sk-toggleable__content {max-height: 0;max-width: 0;overflow: hidden;text-align: left;background-color: #f0f8ff;}#sk-container-id-18 div.sk-toggleable__content pre {margin: 0.2em;color: black;border-radius: 0.25em;background-color: #f0f8ff;}#sk-container-id-18 input.sk-toggleable__control:checked~div.sk-toggleable__content {max-height: 200px;max-width: 100%;overflow: auto;}#sk-container-id-18 input.sk-toggleable__control:checked~label.sk-toggleable__label-arrow:before {content: \"▾\";}#sk-container-id-18 div.sk-estimator input.sk-toggleable__control:checked~label.sk-toggleable__label {background-color: #d4ebff;}#sk-container-id-18 div.sk-label input.sk-toggleable__control:checked~label.sk-toggleable__label {background-color: #d4ebff;}#sk-container-id-18 input.sk-hidden--visually {border: 0;clip: rect(1px 1px 1px 1px);clip: rect(1px, 1px, 1px, 1px);height: 1px;margin: -1px;overflow: hidden;padding: 0;position: absolute;width: 1px;}#sk-container-id-18 div.sk-estimator {font-family: monospace;background-color: #f0f8ff;border: 1px dotted black;border-radius: 0.25em;box-sizing: border-box;margin-bottom: 0.5em;}#sk-container-id-18 div.sk-estimator:hover {background-color: #d4ebff;}#sk-container-id-18 div.sk-parallel-item::after {content: \"\";width: 100%;border-bottom: 1px solid gray;flex-grow: 1;}#sk-container-id-18 div.sk-label:hover label.sk-toggleable__label {background-color: #d4ebff;}#sk-container-id-18 div.sk-serial::before {content: \"\";position: absolute;border-left: 1px solid gray;box-sizing: border-box;top: 0;bottom: 0;left: 50%;z-index: 0;}#sk-container-id-18 div.sk-serial {display: flex;flex-direction: column;align-items: center;background-color: white;padding-right: 0.2em;padding-left: 0.2em;position: relative;}#sk-container-id-18 div.sk-item {position: relative;z-index: 1;}#sk-container-id-18 div.sk-parallel {display: flex;align-items: stretch;justify-content: center;background-color: white;position: relative;}#sk-container-id-18 div.sk-item::before, #sk-container-id-18 div.sk-parallel-item::before {content: \"\";position: absolute;border-left: 1px solid gray;box-sizing: border-box;top: 0;bottom: 0;left: 50%;z-index: -1;}#sk-container-id-18 div.sk-parallel-item {display: flex;flex-direction: column;z-index: 1;position: relative;background-color: white;}#sk-container-id-18 div.sk-parallel-item:first-child::after {align-self: flex-end;width: 50%;}#sk-container-id-18 div.sk-parallel-item:last-child::after {align-self: flex-start;width: 50%;}#sk-container-id-18 div.sk-parallel-item:only-child::after {width: 0;}#sk-container-id-18 div.sk-dashed-wrapped {border: 1px dashed gray;margin: 0 0.4em 0.5em 0.4em;box-sizing: border-box;padding-bottom: 0.4em;background-color: white;}#sk-container-id-18 div.sk-label label {font-family: monospace;font-weight: bold;display: inline-block;line-height: 1.2em;}#sk-container-id-18 div.sk-label-container {text-align: center;}#sk-container-id-18 div.sk-container {/* jupyter's `normalize.less` sets `[hidden] { display: none; }` but bootstrap.min.css set `[hidden] { display: none !important; }` so we also need the `!important` here to be able to override the default hidden behavior on the sphinx rendered scikit-learn.org. See: https://github.com/scikit-learn/scikit-learn/issues/21755 */display: inline-block !important;position: relative;}#sk-container-id-18 div.sk-text-repr-fallback {display: none;}</style><div id=\"sk-container-id-18\" class=\"sk-top-container\"><div class=\"sk-text-repr-fallback\"><pre>RandomForestClassifier()</pre><b>In a Jupyter environment, please rerun this cell to show the HTML representation or trust the notebook. <br />On GitHub, the HTML representation is unable to render, please try loading this page with nbviewer.org.</b></div><div class=\"sk-container\" hidden><div class=\"sk-item\"><div class=\"sk-estimator sk-toggleable\"><input class=\"sk-toggleable__control sk-hidden--visually\" id=\"sk-estimator-id-20\" type=\"checkbox\" checked><label for=\"sk-estimator-id-20\" class=\"sk-toggleable__label sk-toggleable__label-arrow\">RandomForestClassifier</label><div class=\"sk-toggleable__content\"><pre>RandomForestClassifier()</pre></div></div></div></div></div>"
      ],
      "text/plain": [
       "RandomForestClassifier()"
      ]
     },
     "execution_count": 141,
     "metadata": {},
     "output_type": "execute_result"
    }
   ],
   "source": [
    "# FIT RANDOM FOREST \n",
    "rf_clf2 = RandomForestClassifier() \n",
    "rf_clf2.fit(X_train, y_train)"
   ]
  },
  {
   "cell_type": "code",
   "execution_count": 142,
   "id": "0ec0de31",
   "metadata": {},
   "outputs": [
    {
     "name": "stdout",
     "output_type": "stream",
     "text": [
      "Accuracy:  0.997940032043946\n"
     ]
    }
   ],
   "source": [
    "#PREDICTION AND ACCURACY\n",
    "y_pred = rf_clf2.predict(X_test)\n",
    "acc5 = metrics.accuracy_score(y_test, y_pred)\n",
    "print(\"Accuracy: \", acc5)"
   ]
  },
  {
   "cell_type": "code",
   "execution_count": 143,
   "id": "05d131c5",
   "metadata": {},
   "outputs": [
    {
     "name": "stdout",
     "output_type": "stream",
     "text": [
      "F1-score:  0.997940032043946\n",
      "F1-score:  0.929779440936172\n",
      "F1-score:  0.9979311165770223\n"
     ]
    }
   ],
   "source": [
    "# F1-SCORE\n",
    "scoree1 = metrics.f1_score(y_test, y_pred,average='micro')\n",
    "print(\"F1-score: \", scoree1)\n",
    "scoree2 = metrics.f1_score(y_test, y_pred,average='macro')\n",
    "print(\"F1-score: \", scoree2)\n",
    "scoree3 = metrics.f1_score(y_test, y_pred,average='weighted')\n",
    "print(\"F1-score: \", scoree3)"
   ]
  },
  {
   "cell_type": "markdown",
   "id": "0c5a4b53",
   "metadata": {},
   "source": [
    "## Scores  "
   ]
  },
  {
   "cell_type": "code",
   "execution_count": 145,
   "id": "64926d61",
   "metadata": {},
   "outputs": [
    {
     "name": "stderr",
     "output_type": "stream",
     "text": [
      "C:\\Users\\kayan\\anaconda3\\lib\\site-packages\\numpy\\core\\fromnumeric.py:3438: FutureWarning: Dropping of nuisance columns in DataFrame reductions (with 'numeric_only=None') is deprecated; in a future version this will raise TypeError.  Select only valid columns before calling the reduction.\n",
      "  return mean(axis=axis, dtype=dtype, out=out, **kwargs)\n"
     ]
    },
    {
     "data": {
      "text/html": [
       "<div>\n",
       "<style scoped>\n",
       "    .dataframe tbody tr th:only-of-type {\n",
       "        vertical-align: middle;\n",
       "    }\n",
       "\n",
       "    .dataframe tbody tr th {\n",
       "        vertical-align: top;\n",
       "    }\n",
       "\n",
       "    .dataframe thead th {\n",
       "        text-align: right;\n",
       "    }\n",
       "</style>\n",
       "<table border=\"1\" class=\"dataframe\">\n",
       "  <thead>\n",
       "    <tr style=\"text-align: right;\">\n",
       "      <th></th>\n",
       "      <th>Number of features</th>\n",
       "      <th>f1_score (micro)</th>\n",
       "      <th>f1_score (macro)</th>\n",
       "      <th>f1_score (weight)</th>\n",
       "      <th>Average</th>\n",
       "    </tr>\n",
       "  </thead>\n",
       "  <tbody>\n",
       "    <tr>\n",
       "      <th>3</th>\n",
       "      <td>Top 4</td>\n",
       "      <td>0.998779</td>\n",
       "      <td>0.979628</td>\n",
       "      <td>0.998782</td>\n",
       "      <td>0.992396</td>\n",
       "    </tr>\n",
       "    <tr>\n",
       "      <th>0</th>\n",
       "      <td>Top 3</td>\n",
       "      <td>0.998169</td>\n",
       "      <td>0.979162</td>\n",
       "      <td>0.998173</td>\n",
       "      <td>0.991835</td>\n",
       "    </tr>\n",
       "    <tr>\n",
       "      <th>2</th>\n",
       "      <td>Top 6</td>\n",
       "      <td>0.998016</td>\n",
       "      <td>0.956336</td>\n",
       "      <td>0.998018</td>\n",
       "      <td>0.984123</td>\n",
       "    </tr>\n",
       "    <tr>\n",
       "      <th>4</th>\n",
       "      <td>Top 5</td>\n",
       "      <td>0.997940</td>\n",
       "      <td>0.929779</td>\n",
       "      <td>0.997931</td>\n",
       "      <td>0.975217</td>\n",
       "    </tr>\n",
       "    <tr>\n",
       "      <th>1</th>\n",
       "      <td>All</td>\n",
       "      <td>0.998169</td>\n",
       "      <td>0.914833</td>\n",
       "      <td>0.998130</td>\n",
       "      <td>0.970377</td>\n",
       "    </tr>\n",
       "  </tbody>\n",
       "</table>\n",
       "</div>"
      ],
      "text/plain": [
       "  Number of features  f1_score (micro)  f1_score (macro)  f1_score (weight)  \\\n",
       "3              Top 4          0.998779          0.979628           0.998782   \n",
       "0              Top 3          0.998169          0.979162           0.998173   \n",
       "2              Top 6          0.998016          0.956336           0.998018   \n",
       "4              Top 5          0.997940          0.929779           0.997931   \n",
       "1                All          0.998169          0.914833           0.998130   \n",
       "\n",
       "    Average  \n",
       "3  0.992396  \n",
       "0  0.991835  \n",
       "2  0.984123  \n",
       "4  0.975217  \n",
       "1  0.970377  "
      ]
     },
     "execution_count": 145,
     "metadata": {},
     "output_type": "execute_result"
    }
   ],
   "source": [
    "num_features = ['Top 3', 'All', 'Top 6', \n",
    "                'Top 4', 'Top 5']\n",
    "scores_df = pd.DataFrame({'Number of features':num_features,\n",
    "                                    'f1_score (micro)': [scorea1, scoreb1, scorec1, scored1,scoree1],\n",
    "                                    'f1_score (macro)': [scorea2, scoreb2, scorec2, scored2,scoree2],\n",
    "                                    'f1_score (weight)': [scorea3, scoreb3, scorec3, scored3,scoree3]})\n",
    "scores_df['Average'] = np.mean(scores_df, axis=1)\n",
    "scores_df.sort_values('Average', ascending=False)"
   ]
  }
 ],
 "metadata": {
  "kernelspec": {
   "display_name": "Python 3",
   "language": "python",
   "name": "python3"
  },
  "language_info": {
   "codemirror_mode": {
    "name": "ipython",
    "version": 3
   },
   "file_extension": ".py",
   "mimetype": "text/x-python",
   "name": "python",
   "nbconvert_exporter": "python",
   "pygments_lexer": "ipython3",
   "version": "3.9.13"
  },
  "toc": {
   "base_numbering": 1,
   "nav_menu": {},
   "number_sections": false,
   "sideBar": true,
   "skip_h1_title": false,
   "title_cell": "Table of Contents",
   "title_sidebar": "Contents",
   "toc_cell": false,
   "toc_position": {
    "height": "calc(100% - 180px)",
    "left": "10px",
    "top": "150px",
    "width": "301.25px"
   },
   "toc_section_display": true,
   "toc_window_display": true
  },
  "varInspector": {
   "cols": {
    "lenName": 16,
    "lenType": 16,
    "lenVar": 40
   },
   "kernels_config": {
    "python": {
     "delete_cmd_postfix": "",
     "delete_cmd_prefix": "del ",
     "library": "var_list.py",
     "varRefreshCmd": "print(var_dic_list())"
    },
    "r": {
     "delete_cmd_postfix": ") ",
     "delete_cmd_prefix": "rm(",
     "library": "var_list.r",
     "varRefreshCmd": "cat(var_dic_list()) "
    }
   },
   "types_to_exclude": [
    "module",
    "function",
    "builtin_function_or_method",
    "instance",
    "_Feature"
   ],
   "window_display": false
  }
 },
 "nbformat": 4,
 "nbformat_minor": 5
}
